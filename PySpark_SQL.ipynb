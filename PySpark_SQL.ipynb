{
  "nbformat": 4,
  "nbformat_minor": 0,
  "metadata": {
    "colab": {
      "provenance": [],
      "collapsed_sections": []
    },
    "kernelspec": {
      "name": "python3",
      "display_name": "Python 3"
    },
    "language_info": {
      "name": "python"
    }
  },
  "cells": [
    {
      "cell_type": "code",
      "execution_count": null,
      "metadata": {
        "id": "msVvFxAFUYFi",
        "colab": {
          "base_uri": "https://localhost:8080/"
        },
        "outputId": "6744514f-05de-4a11-e318-d1cd80f12cde"
      },
      "outputs": [
        {
          "output_type": "stream",
          "name": "stdout",
          "text": [
            "^C\n"
          ]
        }
      ],
      "source": [
        "!apt-get install openjdk-8-jdk-headless -qq > /dev/null\n",
        "!wget -q https://archive.apache.org/dist/spark/spark-2.4.4/spark-2.4.4-bin-hadoop2.7.tgz\n",
        "!tar xf spark-2.4.4-bin-hadoop2.7.tgz\n",
        "!pip install -q findspark"
      ]
    },
    {
      "cell_type": "code",
      "source": [
        "import os\n",
        "os.environ[\"JAVA HOME\"]= \"/usr/lib/jvm/java-8-openjdk-amd64\"\n",
        "os.environ[\"SPARK_HOME\"]= \"/content/spark-2.4.4-bin-hadoop2.7\""
      ],
      "metadata": {
        "id": "csfQT6XlVi5e"
      },
      "execution_count": null,
      "outputs": []
    },
    {
      "cell_type": "code",
      "source": [
        "import findspark\n",
        "findspark.init()\n",
        "from pyspark.sql import SparkSession\n",
        "from pyspark.sql.functions import *\n",
        "from pyspark.sql.types import *"
      ],
      "metadata": {
        "id": "uzvxLp7pWIak"
      },
      "execution_count": null,
      "outputs": []
    },
    {
      "cell_type": "code",
      "source": [
        "from google.colab import files \n",
        "upload = files.upload()"
      ],
      "metadata": {
        "colab": {
          "base_uri": "https://localhost:8080/",
          "height": 73
        },
        "id": "6rXdXp8gZC6t",
        "outputId": "53badbd0-632f-4a4e-edca-068aec103557"
      },
      "execution_count": null,
      "outputs": [
        {
          "output_type": "display_data",
          "data": {
            "text/plain": [
              "<IPython.core.display.HTML object>"
            ],
            "text/html": [
              "\n",
              "     <input type=\"file\" id=\"files-384cb130-925c-464e-afae-95e5cab3b185\" name=\"files[]\" multiple disabled\n",
              "        style=\"border:none\" />\n",
              "     <output id=\"result-384cb130-925c-464e-afae-95e5cab3b185\">\n",
              "      Upload widget is only available when the cell has been executed in the\n",
              "      current browser session. Please rerun this cell to enable.\n",
              "      </output>\n",
              "      <script>// Copyright 2017 Google LLC\n",
              "//\n",
              "// Licensed under the Apache License, Version 2.0 (the \"License\");\n",
              "// you may not use this file except in compliance with the License.\n",
              "// You may obtain a copy of the License at\n",
              "//\n",
              "//      http://www.apache.org/licenses/LICENSE-2.0\n",
              "//\n",
              "// Unless required by applicable law or agreed to in writing, software\n",
              "// distributed under the License is distributed on an \"AS IS\" BASIS,\n",
              "// WITHOUT WARRANTIES OR CONDITIONS OF ANY KIND, either express or implied.\n",
              "// See the License for the specific language governing permissions and\n",
              "// limitations under the License.\n",
              "\n",
              "/**\n",
              " * @fileoverview Helpers for google.colab Python module.\n",
              " */\n",
              "(function(scope) {\n",
              "function span(text, styleAttributes = {}) {\n",
              "  const element = document.createElement('span');\n",
              "  element.textContent = text;\n",
              "  for (const key of Object.keys(styleAttributes)) {\n",
              "    element.style[key] = styleAttributes[key];\n",
              "  }\n",
              "  return element;\n",
              "}\n",
              "\n",
              "// Max number of bytes which will be uploaded at a time.\n",
              "const MAX_PAYLOAD_SIZE = 100 * 1024;\n",
              "\n",
              "function _uploadFiles(inputId, outputId) {\n",
              "  const steps = uploadFilesStep(inputId, outputId);\n",
              "  const outputElement = document.getElementById(outputId);\n",
              "  // Cache steps on the outputElement to make it available for the next call\n",
              "  // to uploadFilesContinue from Python.\n",
              "  outputElement.steps = steps;\n",
              "\n",
              "  return _uploadFilesContinue(outputId);\n",
              "}\n",
              "\n",
              "// This is roughly an async generator (not supported in the browser yet),\n",
              "// where there are multiple asynchronous steps and the Python side is going\n",
              "// to poll for completion of each step.\n",
              "// This uses a Promise to block the python side on completion of each step,\n",
              "// then passes the result of the previous step as the input to the next step.\n",
              "function _uploadFilesContinue(outputId) {\n",
              "  const outputElement = document.getElementById(outputId);\n",
              "  const steps = outputElement.steps;\n",
              "\n",
              "  const next = steps.next(outputElement.lastPromiseValue);\n",
              "  return Promise.resolve(next.value.promise).then((value) => {\n",
              "    // Cache the last promise value to make it available to the next\n",
              "    // step of the generator.\n",
              "    outputElement.lastPromiseValue = value;\n",
              "    return next.value.response;\n",
              "  });\n",
              "}\n",
              "\n",
              "/**\n",
              " * Generator function which is called between each async step of the upload\n",
              " * process.\n",
              " * @param {string} inputId Element ID of the input file picker element.\n",
              " * @param {string} outputId Element ID of the output display.\n",
              " * @return {!Iterable<!Object>} Iterable of next steps.\n",
              " */\n",
              "function* uploadFilesStep(inputId, outputId) {\n",
              "  const inputElement = document.getElementById(inputId);\n",
              "  inputElement.disabled = false;\n",
              "\n",
              "  const outputElement = document.getElementById(outputId);\n",
              "  outputElement.innerHTML = '';\n",
              "\n",
              "  const pickedPromise = new Promise((resolve) => {\n",
              "    inputElement.addEventListener('change', (e) => {\n",
              "      resolve(e.target.files);\n",
              "    });\n",
              "  });\n",
              "\n",
              "  const cancel = document.createElement('button');\n",
              "  inputElement.parentElement.appendChild(cancel);\n",
              "  cancel.textContent = 'Cancel upload';\n",
              "  const cancelPromise = new Promise((resolve) => {\n",
              "    cancel.onclick = () => {\n",
              "      resolve(null);\n",
              "    };\n",
              "  });\n",
              "\n",
              "  // Wait for the user to pick the files.\n",
              "  const files = yield {\n",
              "    promise: Promise.race([pickedPromise, cancelPromise]),\n",
              "    response: {\n",
              "      action: 'starting',\n",
              "    }\n",
              "  };\n",
              "\n",
              "  cancel.remove();\n",
              "\n",
              "  // Disable the input element since further picks are not allowed.\n",
              "  inputElement.disabled = true;\n",
              "\n",
              "  if (!files) {\n",
              "    return {\n",
              "      response: {\n",
              "        action: 'complete',\n",
              "      }\n",
              "    };\n",
              "  }\n",
              "\n",
              "  for (const file of files) {\n",
              "    const li = document.createElement('li');\n",
              "    li.append(span(file.name, {fontWeight: 'bold'}));\n",
              "    li.append(span(\n",
              "        `(${file.type || 'n/a'}) - ${file.size} bytes, ` +\n",
              "        `last modified: ${\n",
              "            file.lastModifiedDate ? file.lastModifiedDate.toLocaleDateString() :\n",
              "                                    'n/a'} - `));\n",
              "    const percent = span('0% done');\n",
              "    li.appendChild(percent);\n",
              "\n",
              "    outputElement.appendChild(li);\n",
              "\n",
              "    const fileDataPromise = new Promise((resolve) => {\n",
              "      const reader = new FileReader();\n",
              "      reader.onload = (e) => {\n",
              "        resolve(e.target.result);\n",
              "      };\n",
              "      reader.readAsArrayBuffer(file);\n",
              "    });\n",
              "    // Wait for the data to be ready.\n",
              "    let fileData = yield {\n",
              "      promise: fileDataPromise,\n",
              "      response: {\n",
              "        action: 'continue',\n",
              "      }\n",
              "    };\n",
              "\n",
              "    // Use a chunked sending to avoid message size limits. See b/62115660.\n",
              "    let position = 0;\n",
              "    do {\n",
              "      const length = Math.min(fileData.byteLength - position, MAX_PAYLOAD_SIZE);\n",
              "      const chunk = new Uint8Array(fileData, position, length);\n",
              "      position += length;\n",
              "\n",
              "      const base64 = btoa(String.fromCharCode.apply(null, chunk));\n",
              "      yield {\n",
              "        response: {\n",
              "          action: 'append',\n",
              "          file: file.name,\n",
              "          data: base64,\n",
              "        },\n",
              "      };\n",
              "\n",
              "      let percentDone = fileData.byteLength === 0 ?\n",
              "          100 :\n",
              "          Math.round((position / fileData.byteLength) * 100);\n",
              "      percent.textContent = `${percentDone}% done`;\n",
              "\n",
              "    } while (position < fileData.byteLength);\n",
              "  }\n",
              "\n",
              "  // All done.\n",
              "  yield {\n",
              "    response: {\n",
              "      action: 'complete',\n",
              "    }\n",
              "  };\n",
              "}\n",
              "\n",
              "scope.google = scope.google || {};\n",
              "scope.google.colab = scope.google.colab || {};\n",
              "scope.google.colab._files = {\n",
              "  _uploadFiles,\n",
              "  _uploadFilesContinue,\n",
              "};\n",
              "})(self);\n",
              "</script> "
            ]
          },
          "metadata": {}
        },
        {
          "output_type": "stream",
          "name": "stdout",
          "text": [
            "Saving Dataset.zip to Dataset.zip\n"
          ]
        }
      ]
    },
    {
      "cell_type": "code",
      "source": [
        "!unzip Dataset.zip"
      ],
      "metadata": {
        "colab": {
          "base_uri": "https://localhost:8080/"
        },
        "id": "mu47hPupbGRR",
        "outputId": "0d8ef50f-becd-4b73-9cea-e036265dba8f"
      },
      "execution_count": null,
      "outputs": [
        {
          "output_type": "stream",
          "name": "stdout",
          "text": [
            "Archive:  Dataset.zip\n",
            "   creating: Dataset/\n",
            " extracting: Dataset/cities1.csv     \n",
            "  inflating: Dataset/cities1_schema.csv  \n",
            " extracting: Dataset/cities2.csv     \n",
            "   creating: Dataset/exercise/\n",
            "  inflating: Dataset/exercise/AkunTwitter_POS.csv  \n",
            "  inflating: Dataset/exercise/HashtagTwitter_POS.csv  \n",
            "  inflating: Dataset/exercise/Instagram_POS.json  \n",
            "   creating: Dataset/json/\n",
            " extracting: Dataset/json/user1.json  \n",
            " extracting: Dataset/json/user2.json  \n",
            " extracting: Dataset/pcodes.csv      \n",
            "  inflating: Dataset/people-no-pcode.csv  \n",
            "  inflating: Dataset/purplecow.txt   \n",
            " extracting: Dataset/zcodes.csv      \n"
          ]
        }
      ]
    },
    {
      "cell_type": "code",
      "source": [
        "spark = SparkSession.builder\\\n",
        "      .master(\"local[*]\")\\\n",
        "      .appName(\"test\")\\\n",
        "      .getOrCreate()"
      ],
      "metadata": {
        "id": "NomKaycNbmQR"
      },
      "execution_count": null,
      "outputs": []
    },
    {
      "cell_type": "code",
      "source": [
        "spark"
      ],
      "metadata": {
        "colab": {
          "base_uri": "https://localhost:8080/",
          "height": 219
        },
        "id": "xh4qg7w_crMJ",
        "outputId": "b6184c7d-ff28-4a7a-c4ed-60f2c450c09e"
      },
      "execution_count": null,
      "outputs": [
        {
          "output_type": "execute_result",
          "data": {
            "text/plain": [
              "<pyspark.sql.session.SparkSession at 0x7fa867e001d0>"
            ],
            "text/html": [
              "\n",
              "            <div>\n",
              "                <p><b>SparkSession - in-memory</b></p>\n",
              "                \n",
              "        <div>\n",
              "            <p><b>SparkContext</b></p>\n",
              "\n",
              "            <p><a href=\"http://aa03f6cfa1fe:4040\">Spark UI</a></p>\n",
              "\n",
              "            <dl>\n",
              "              <dt>Version</dt>\n",
              "                <dd><code>v2.4.4</code></dd>\n",
              "              <dt>Master</dt>\n",
              "                <dd><code>local[*]</code></dd>\n",
              "              <dt>AppName</dt>\n",
              "                <dd><code>test</code></dd>\n",
              "            </dl>\n",
              "        </div>\n",
              "        \n",
              "            </div>\n",
              "        "
            ]
          },
          "metadata": {},
          "execution_count": 13
        }
      ]
    },
    {
      "cell_type": "code",
      "source": [
        "myDF1 = spark.read.format(\"csv\").load(\"Dataset/exercise/AkunTwitter_POS.csv\")"
      ],
      "metadata": {
        "id": "rzoozE23cutG"
      },
      "execution_count": null,
      "outputs": []
    },
    {
      "cell_type": "code",
      "source": [
        "myDF1.show(3)"
      ],
      "metadata": {
        "colab": {
          "base_uri": "https://localhost:8080/"
        },
        "id": "aGt0GgIy2wE4",
        "outputId": "d5836ac9-7a74-4f13-f90b-312bbe34dc01"
      },
      "execution_count": null,
      "outputs": [
        {
          "output_type": "stream",
          "name": "stdout",
          "text": [
            "+----------+---------------+-----------+---------+--------+--------------------+---------+------------+-------------+-----+--------------------+------------+----+------+-------------+--------------+-----------+--------+--------+--------------------+-------+---------+-----+----------+----+----+\n",
            "|       _c0|            _c1|        _c2|      _c3|     _c4|                 _c5|      _c6|         _c7|          _c8|  _c9|                _c10|        _c11|_c12|  _c13|         _c14|          _c15|       _c16|    _c17|    _c18|                _c19|   _c20|     _c21| _c22|      _c23|_c24|_c25|\n",
            "+----------+---------------+-----------+---------+--------+--------------------+---------+------------+-------------+-----+--------------------+------------+----+------+-------------+--------------+-----------+--------+--------+--------------------+-------+---------+-----+----------+----+----+\n",
            "|        id|conversation_id| created_at|     date|    time|            timezone|  user_id|    username|         name|place|               tweet|    mentions|urls|photos|replies_count|retweets_count|likes_count|hashtags|cashtags|                link|retweet|quote_url|video|user_rt_id|near| geo|\n",
            "|1.1499E+18|     1.1499E+18|1.56299E+12|7/13/2019|11:44:07|SE Asia Standard ...|147137991|posindonesia|POS INDONESIA| null|Baik sahabat, tel...| ['bektifa']|  []|    []|            1|             0|          0|      []|      []|https://twitter.c...|   null|     null|    0|      null|null|null|\n",
            "|1.1499E+18|    1.14989E+18|1.56299E+12|7/13/2019|11:22:35|SE Asia Standard ...|147137991|posindonesia|POS INDONESIA| null|Hai sahabat. Kiri...|['rendiez1']|  []|    []|            0|             0|          0|      []|      []|https://twitter.c...|   null|     null|    0|      null|null|null|\n",
            "+----------+---------------+-----------+---------+--------+--------------------+---------+------------+-------------+-----+--------------------+------------+----+------+-------------+--------------+-----------+--------+--------+--------------------+-------+---------+-----+----------+----+----+\n",
            "only showing top 3 rows\n",
            "\n"
          ]
        }
      ]
    },
    {
      "cell_type": "code",
      "source": [
        "myDF1.printSchema()"
      ],
      "metadata": {
        "colab": {
          "base_uri": "https://localhost:8080/"
        },
        "id": "065V_N1S3TQj",
        "outputId": "c0e435eb-1c43-4600-88d6-9901362f4eba"
      },
      "execution_count": null,
      "outputs": [
        {
          "output_type": "stream",
          "name": "stdout",
          "text": [
            "root\n",
            " |-- _c0: string (nullable = true)\n",
            " |-- _c1: string (nullable = true)\n",
            " |-- _c2: string (nullable = true)\n",
            " |-- _c3: string (nullable = true)\n",
            " |-- _c4: string (nullable = true)\n",
            " |-- _c5: string (nullable = true)\n",
            " |-- _c6: string (nullable = true)\n",
            " |-- _c7: string (nullable = true)\n",
            " |-- _c8: string (nullable = true)\n",
            " |-- _c9: string (nullable = true)\n",
            " |-- _c10: string (nullable = true)\n",
            " |-- _c11: string (nullable = true)\n",
            " |-- _c12: string (nullable = true)\n",
            " |-- _c13: string (nullable = true)\n",
            " |-- _c14: string (nullable = true)\n",
            " |-- _c15: string (nullable = true)\n",
            " |-- _c16: string (nullable = true)\n",
            " |-- _c17: string (nullable = true)\n",
            " |-- _c18: string (nullable = true)\n",
            " |-- _c19: string (nullable = true)\n",
            " |-- _c20: string (nullable = true)\n",
            " |-- _c21: string (nullable = true)\n",
            " |-- _c22: string (nullable = true)\n",
            " |-- _c23: string (nullable = true)\n",
            " |-- _c24: string (nullable = true)\n",
            " |-- _c25: string (nullable = true)\n",
            "\n"
          ]
        }
      ]
    },
    {
      "cell_type": "code",
      "source": [
        "myDF_1= spark.read.\\\n",
        "        format(\"csv\").\\\n",
        "        option(\"inferSchema\", \"true\").\\\n",
        "        option(\"header\", \"true\").\\\n",
        "        load(\"Dataset/exercise/AkunTwitter_POS.csv\")"
      ],
      "metadata": {
        "id": "3kTI8Wv73fhR"
      },
      "execution_count": null,
      "outputs": []
    },
    {
      "cell_type": "code",
      "source": [
        "myDF_1.show()\n",
        "myDF_1.printSchema()"
      ],
      "metadata": {
        "colab": {
          "base_uri": "https://localhost:8080/"
        },
        "id": "3RII5Ho14Scr",
        "outputId": "a35efefb-9c72-408f-8e45-7ee86774f2cb"
      },
      "execution_count": null,
      "outputs": [
        {
          "output_type": "stream",
          "name": "stdout",
          "text": [
            "+-----------+---------------+-----------+---------+--------+--------------------+---------+------------+-------------+-----+--------------------+-------------------+----+--------------------+-------------+--------------+-----------+--------------------+--------+--------------------+-------+---------+-----+----------+----+----+\n",
            "|         id|conversation_id| created_at|     date|    time|            timezone|  user_id|    username|         name|place|               tweet|           mentions|urls|              photos|replies_count|retweets_count|likes_count|            hashtags|cashtags|                link|retweet|quote_url|video|user_rt_id|near| geo|\n",
            "+-----------+---------------+-----------+---------+--------+--------------------+---------+------------+-------------+-----+--------------------+-------------------+----+--------------------+-------------+--------------+-----------+--------------------+--------+--------------------+-------+---------+-----+----------+----+----+\n",
            "|1.14990E+18|  1.1499000E+18|1.56299E+12|7/13/2019|11:44:07|SE Asia Standard ...|147137991|posindonesia|POS INDONESIA| null|Baik sahabat, tel...|        ['bektifa']|  []|                  []|            1|             0|          0|                  []|      []|https://twitter.c...|   null|     null|    0|      null|null|null|\n",
            "|1.14990E+18|  1.1498900E+18|1.56299E+12|7/13/2019|11:22:35|SE Asia Standard ...|147137991|posindonesia|POS INDONESIA| null|Hai sahabat. Kiri...|       ['rendiez1']|  []|                  []|            0|             0|          0|                  []|      []|https://twitter.c...|   null|     null|    0|      null|null|null|\n",
            "|1.14990E+18|   9.706290E+17|1.56299E+12|7/13/2019|11:20:05|SE Asia Standard ...|147137991|posindonesia|POS INDONESIA| null|/ handphone pener...|        ['tutle21']|  []|                  []|            0|             0|          0|                  []|      []|https://twitter.c...|   null|     null|    0|      null|null|null|\n",
            "|1.14990E+18|   9.706290E+17|1.56299E+12|7/13/2019|11:19:59|SE Asia Standard ...|147137991|posindonesia|POS INDONESIA| null|Hai sahabat, kiri...|        ['tutle21']|  []|                  []|            0|             0|          0|                  []|      []|https://twitter.c...|   null|     null|    0|      null|null|null|\n",
            "|1.14989E+18|  1.1498900E+18|1.56299E+12|7/13/2019|11:07:58|SE Asia Standard ...|147137991|posindonesia|POS INDONESIA| null|Oranger menjaga s...|                 []|  []|['https://pbs.twi...|            0|             0|          1|['#posinaja', '#b...|      []|https://twitter.c...|   null|     null|    0|      null|null|null|\n",
            "|1.14987E+18|  1.1498600E+18|1.56298E+12|7/13/2019| 9:23:33|SE Asia Standard ...|147137991|posindonesia|POS INDONESIA| null|Hai sahabat. Untu...|    ['prayudipras']|  []|                  []|            0|             0|          0|                  []|      []|https://twitter.c...|   null|     null|    0|      null|null|null|\n",
            "|1.14986E+18|  1.1498600E+18|1.56298E+12|7/13/2019| 8:43:24|SE Asia Standard ...|147137991|posindonesia|POS INDONESIA| null|Terima kasih tela...|       ['muthemii']|  []|                  []|            0|             0|          0|                  []|      []|https://twitter.c...|   null|     null|    0|      null|null|null|\n",
            "|1.14985E+18|  1.1498400E+18|1.56298E+12|7/13/2019| 8:04:21|SE Asia Standard ...|147137991|posindonesia|POS INDONESIA| null|Hai sahabat. Moho...| ['hendfry_gerard']|  []|                  []|            0|             0|          0|                  []|      []|https://twitter.c...|   null|     null|    0|      null|null|null|\n",
            "|1.14984E+18|  1.1498300E+18|1.56298E+12|7/13/2019| 7:39:44|SE Asia Standard ...|147137991|posindonesia|POS INDONESIA| null|Hai sahabat. Moho...|      ['conkembon']|  []|                  []|            0|             0|          1|                  []|      []|https://twitter.c...|   null|     null|    0|      null|null|null|\n",
            "|1.14984E+18|  1.1484900E+18|1.56298E+12|7/13/2019| 7:37:39|SE Asia Standard ...|147137991|posindonesia|POS INDONESIA| null|Sama - sama sahab...|  ['temboksebelah']|  []|                  []|            0|             0|          0|                  []|      []|https://twitter.c...|   null|     null|    0|      null|null|null|\n",
            "|1.14984E+18|  1.1498300E+18|1.56298E+12|7/13/2019| 7:35:52|SE Asia Standard ...|147137991|posindonesia|POS INDONESIA| null|Hai sahabat. Kiri...|   ['bless_comjkt']|  []|                  []|            0|             0|          0|                  []|      []|https://twitter.c...|   null|     null|    0|      null|null|null|\n",
            "|1.14981E+18|  1.1497600E+18|1.56297E+12|7/13/2019| 5:26:52|SE Asia Standard ...|147137991|posindonesia|POS INDONESIA| null|biaya pelalubeaan...|     ['schyaphyra']|  []|                  []|            0|             0|          0|                  []|      []|https://twitter.c...|   null|     null|    0|      null|null|null|\n",
            "|1.14981E+18|  1.1497600E+18|1.56297E+12|7/13/2019| 5:26:52|SE Asia Standard ...|147137991|posindonesia|POS INDONESIA| null|Halo Sahabat, seb...|     ['schyaphyra']|  []|                  []|            0|             0|          0|                  []|      []|https://twitter.c...|   null|     null|    0|      null|null|null|\n",
            "|1.14981E+18|  1.1498000E+18|1.56297E+12|7/13/2019| 5:26:35|SE Asia Standard ...|147137991|posindonesia|POS INDONESIA| null|Berdasarkan hasil...|['outlet_terminal']|  []|                  []|            0|             0|          0|                  []|      []|https://twitter.c...|   null|     null|    0|      null|null|null|\n",
            "|1.14977E+18|  1.1497600E+18|1.56296E+12|7/13/2019| 2:52:46|SE Asia Standard ...|147137991|posindonesia|POS INDONESIA| null|Mohon diinformasi...|       ['reza_mix']|  []|                  []|            0|             0|          0|                  []|      []|https://twitter.c...|   null|     null|    0|      null|null|null|\n",
            "|1.14976E+18|  1.1497600E+18|1.56296E+12|7/13/2019| 2:03:34|SE Asia Standard ...|147137991|posindonesia|POS INDONESIA| null|kami informasikan...|       ['atsira15']|  []|                  []|            1|             0|          0|                  []|      []|https://twitter.c...|   null|     null|    0|      null|null|null|\n",
            "|1.14972E+18|  1.1497200E+18|1.56295E+12|7/12/2019|23:39:13|SE Asia Standard ...|147137991|posindonesia|POS INDONESIA| null|Baik Sahabat, Moh...|     ['karramelia']|  []|                  []|            0|             0|          0|                  []|      []|https://twitter.c...|   null|     null|    0|      null|null|null|\n",
            "|1.14970E+18|  1.1495100E+18|1.56294E+12|7/12/2019|22:07:32|SE Asia Standard ...|147137991|posindonesia|POS INDONESIA| null|Halo Sahabat. Moh...|  ['aisyahamazlam']|  []|                  []|            0|             0|          0|                  []|      []|https://twitter.c...|   null|     null|    0|      null|null|null|\n",
            "|1.14970E+18|  1.1496900E+18|1.56294E+12|7/12/2019|22:05:06|SE Asia Standard ...|147137991|posindonesia|POS INDONESIA| null|Halo Sahabat pos....|     ['djoniganda']|  []|                  []|            0|             0|          0|                  []|      []|https://twitter.c...|   null|     null|    0|      null|null|null|\n",
            "|1.14968E+18|  1.1496800E+18|1.56294E+12|7/12/2019|21:10:48|SE Asia Standard ...|147137991|posindonesia|POS INDONESIA| null|Baik sahabat moho...|       ['adiyaksa']|  []|                  []|            0|             0|          0|                  []|      []|https://twitter.c...|   null|     null|    0|      null|null|null|\n",
            "+-----------+---------------+-----------+---------+--------+--------------------+---------+------------+-------------+-----+--------------------+-------------------+----+--------------------+-------------+--------------+-----------+--------------------+--------+--------------------+-------+---------+-----+----------+----+----+\n",
            "only showing top 20 rows\n",
            "\n",
            "root\n",
            " |-- id: decimal(6,-13) (nullable = true)\n",
            " |-- conversation_id: decimal(8,-11) (nullable = true)\n",
            " |-- created_at: decimal(6,-7) (nullable = true)\n",
            " |-- date: string (nullable = true)\n",
            " |-- time: string (nullable = true)\n",
            " |-- timezone: string (nullable = true)\n",
            " |-- user_id: integer (nullable = true)\n",
            " |-- username: string (nullable = true)\n",
            " |-- name: string (nullable = true)\n",
            " |-- place: string (nullable = true)\n",
            " |-- tweet: string (nullable = true)\n",
            " |-- mentions: string (nullable = true)\n",
            " |-- urls: string (nullable = true)\n",
            " |-- photos: string (nullable = true)\n",
            " |-- replies_count: string (nullable = true)\n",
            " |-- retweets_count: string (nullable = true)\n",
            " |-- likes_count: string (nullable = true)\n",
            " |-- hashtags: string (nullable = true)\n",
            " |-- cashtags: string (nullable = true)\n",
            " |-- link: string (nullable = true)\n",
            " |-- retweet: string (nullable = true)\n",
            " |-- quote_url: string (nullable = true)\n",
            " |-- video: string (nullable = true)\n",
            " |-- user_rt_id: string (nullable = true)\n",
            " |-- near: string (nullable = true)\n",
            " |-- geo: string (nullable = true)\n",
            "\n"
          ]
        }
      ]
    },
    {
      "cell_type": "code",
      "source": [
        "from pyspark.sql.functions import col\n",
        "DF_1= myDF_1.select(col(\"username\"), col(\"tweet\").alias(\"content\"), lit(\"Twitter\").alias(\"Sourse\"))\n",
        "DF_1.show()\n",
        "DF_1= DF_1.filter(DF_1['username']== \"posindonesia\")\n",
        "DF_1.show()"
      ],
      "metadata": {
        "colab": {
          "base_uri": "https://localhost:8080/"
        },
        "id": "2v3G2FS78X3N",
        "outputId": "76a158dd-64de-4589-c4f3-657400b5d941"
      },
      "execution_count": null,
      "outputs": [
        {
          "output_type": "stream",
          "name": "stdout",
          "text": [
            "+------------+--------------------+-------+\n",
            "|    username|             content| Sourse|\n",
            "+------------+--------------------+-------+\n",
            "|posindonesia|Baik sahabat, tel...|Twitter|\n",
            "|posindonesia|Hai sahabat. Kiri...|Twitter|\n",
            "|posindonesia|/ handphone pener...|Twitter|\n",
            "|posindonesia|Hai sahabat, kiri...|Twitter|\n",
            "|posindonesia|Oranger menjaga s...|Twitter|\n",
            "|posindonesia|Hai sahabat. Untu...|Twitter|\n",
            "|posindonesia|Terima kasih tela...|Twitter|\n",
            "|posindonesia|Hai sahabat. Moho...|Twitter|\n",
            "|posindonesia|Hai sahabat. Moho...|Twitter|\n",
            "|posindonesia|Sama - sama sahab...|Twitter|\n",
            "|posindonesia|Hai sahabat. Kiri...|Twitter|\n",
            "|posindonesia|biaya pelalubeaan...|Twitter|\n",
            "|posindonesia|Halo Sahabat, seb...|Twitter|\n",
            "|posindonesia|Berdasarkan hasil...|Twitter|\n",
            "|posindonesia|Mohon diinformasi...|Twitter|\n",
            "|posindonesia|kami informasikan...|Twitter|\n",
            "|posindonesia|Baik Sahabat, Moh...|Twitter|\n",
            "|posindonesia|Halo Sahabat. Moh...|Twitter|\n",
            "|posindonesia|Halo Sahabat pos....|Twitter|\n",
            "|posindonesia|Baik sahabat moho...|Twitter|\n",
            "+------------+--------------------+-------+\n",
            "only showing top 20 rows\n",
            "\n",
            "+------------+--------------------+-------+\n",
            "|    username|             content| Sourse|\n",
            "+------------+--------------------+-------+\n",
            "|posindonesia|Baik sahabat, tel...|Twitter|\n",
            "|posindonesia|Hai sahabat. Kiri...|Twitter|\n",
            "|posindonesia|/ handphone pener...|Twitter|\n",
            "|posindonesia|Hai sahabat, kiri...|Twitter|\n",
            "|posindonesia|Oranger menjaga s...|Twitter|\n",
            "|posindonesia|Hai sahabat. Untu...|Twitter|\n",
            "|posindonesia|Terima kasih tela...|Twitter|\n",
            "|posindonesia|Hai sahabat. Moho...|Twitter|\n",
            "|posindonesia|Hai sahabat. Moho...|Twitter|\n",
            "|posindonesia|Sama - sama sahab...|Twitter|\n",
            "|posindonesia|Hai sahabat. Kiri...|Twitter|\n",
            "|posindonesia|biaya pelalubeaan...|Twitter|\n",
            "|posindonesia|Halo Sahabat, seb...|Twitter|\n",
            "|posindonesia|Berdasarkan hasil...|Twitter|\n",
            "|posindonesia|Mohon diinformasi...|Twitter|\n",
            "|posindonesia|kami informasikan...|Twitter|\n",
            "|posindonesia|Baik Sahabat, Moh...|Twitter|\n",
            "|posindonesia|Halo Sahabat. Moh...|Twitter|\n",
            "|posindonesia|Halo Sahabat pos....|Twitter|\n",
            "|posindonesia|Baik sahabat moho...|Twitter|\n",
            "+------------+--------------------+-------+\n",
            "only showing top 20 rows\n",
            "\n"
          ]
        }
      ]
    },
    {
      "cell_type": "code",
      "source": [
        "myDF_2= spark.read.\\\n",
        "        format(\"csv\").\\\n",
        "        option(\"inferSchema\", \"true\").\\\n",
        "        option(\"header\", \"true\").\\\n",
        "        load(\"Dataset/exercise/HashtagTwitter_POS.csv\")"
      ],
      "metadata": {
        "id": "ek3ozKXB4vPo"
      },
      "execution_count": null,
      "outputs": []
    },
    {
      "cell_type": "code",
      "source": [
        "myDF_2.show()\n",
        "myDF_2.printSchema()\n",
        "myDF_2.dtypes"
      ],
      "metadata": {
        "colab": {
          "base_uri": "https://localhost:8080/"
        },
        "id": "uGLSRbSZ5Doc",
        "outputId": "9f3c9d50-7d22-4c28-b5b4-2338efa8e1f1"
      },
      "execution_count": null,
      "outputs": [
        {
          "output_type": "stream",
          "name": "stdout",
          "text": [
            "+--------+---------------+----------+---------+--------+--------------------+-------------------+--------------+--------------------+-----+--------------------+--------------------+--------------------+--------------------+-------------+--------------+-----------+--------------------+--------+--------------------+-------+---------+-----+----------+----+----+\n",
            "|      id|conversation_id|created_at|     date|    time|            timezone|            user_id|      username|                name|place|               tweet|            mentions|                urls|              photos|replies_count|retweets_count|likes_count|            hashtags|cashtags|                link|retweet|quote_url|video|user_rt_id|near| geo|\n",
            "+--------+---------------+----------+---------+--------+--------------------+-------------------+--------------+--------------------+-----+--------------------+--------------------+--------------------+--------------------+-------------+--------------+-----------+--------------------+--------+--------------------+-------+---------+-----+----------+----+----+\n",
            "|1.15E+18|       1.15E+18|  1.56E+12|7/13/2019| 9:49:32|SE Asia Standard ...| 863000000000000000|  kantorpospbg|KantorPosPurbalingga| null|Ada Kiriman Uang?...|                  []|['https://www.ins...|                  []|            0|             0|          0|['#bumnhadiruntuk...|      []|https://twitter.c...|   null|     null|    0|      null|null|null|\n",
            "|1.15E+18|       1.15E+18|  1.56E+12|7/12/2019|20:35:22|SE Asia Standard ...|           69183155|      detikcom|            detikcom| null|Resi Pos merupaka...|    ['detikfinance']|['https://finance...|                  []|            3|            16|         46|['#posindonesia',...|      []|https://twitter.c...|   null|     null|    0|      null|null|null|\n",
            "|1.15E+18|       1.15E+18|  1.56E+12|7/12/2019|16:55:01|SE Asia Standard ...|          147137991|  posindonesia|       POS INDONESIA| null|Oranger, layanan ...|                  []|                  []|['https://pbs.twi...|            0|             1|          3|['#orangerinaja',...|      []|https://twitter.c...|   null|     null|    0|      null|null|null|\n",
            "|1.15E+18|       1.15E+18|  1.56E+12|7/11/2019| 9:27:02|SE Asia Standard ...|1090000000000000000|        k59300|Kantor Pos Kudus ...| null|#Repost posindone...|                  []|['https://www.ins...|                  []|            0|             0|          0|['#repost', '#pos...|      []|https://twitter.c...|   null|     null|    0|      null|null|null|\n",
            "|1.15E+18|       1.15E+18|  1.56E+12|7/10/2019|17:46:01|SE Asia Standard ...|          147137991|  posindonesia|       POS INDONESIA| null|Kiriman lewat Pos...|                  []|                  []|['https://pbs.twi...|            5|             4|          4|['#posinaja', '#l...|      []|https://twitter.c...|   null|     null|    0|      null|null|null|\n",
            "|1.15E+18|       1.15E+18|  1.56E+12|7/10/2019|12:23:28|SE Asia Standard ...|          605349099|amantepatwaktu|               Mantu| null|Kenali Pos sedari...|    ['posindonesia']|                  []|['https://pbs.twi...|            0|             1|          1|['#posindonesia',...|      []|https://twitter.c...|   null|     null|    0|      null|null|null|\n",
            "|1.15E+18|       1.15E+18|  1.56E+12|7/10/2019| 9:28:21|SE Asia Standard ...| 863000000000000000|  kantorpospbg|KantorPosPurbalingga| null|#Repost posindone...|                  []|['https://www.ins...|                  []|            0|             0|          0|['#repost', '#ora...|      []|https://twitter.c...|   null|     null|    0|      null|null|null|\n",
            "|1.15E+18|       1.15E+18|  1.56E+12| 7/9/2019|18:33:01|SE Asia Standard ...|          147137991|  posindonesia|       POS INDONESIA| null|Mau layanan Pos I...|                  []|                  []|['https://pbs.twi...|            1|             2|          1|['#orangerinaja',...|      []|https://twitter.c...|   null|     null|    0|      null|null|null|\n",
            "|1.15E+18|       1.15E+18|  1.56E+12| 7/9/2019|15:00:17|SE Asia Standard ...|          147137991|  posindonesia|       POS INDONESIA| null|Oranger Pos Indon...|                  []|                  []|['https://pbs.twi...|            1|             0|          2|['#posinaja', '#o...|      []|https://twitter.c...|   null|     null|    0|      null|null|null|\n",
            "|1.15E+18|       1.15E+18|  1.56E+12| 7/9/2019|12:52:51|SE Asia Standard ...|1090000000000000000|        k59300|Kantor Pos Kudus ...| null|#Repost posindone...|                  []|['https://www.ins...|                  []|            0|             0|          0|['#repost', '#met...|      []|https://twitter.c...|   null|     null|    0|      null|null|null|\n",
            "|1.15E+18|       1.15E+18|  1.56E+12| 7/9/2019|10:45:55|SE Asia Standard ...|          910272901|     tokondutz|           tokondutz| null|Sale cd audio  #s...|                  []|['https://www.ins...|                  []|            0|             0|          0|['#sale', '#audio...|      []|https://twitter.c...|   null|     null|    0|      null|null|null|\n",
            "|1.15E+18|       1.15E+18|  1.56E+12| 7/9/2019| 9:13:32|SE Asia Standard ...|          910272901|     tokondutz|           tokondutz| null|Sale cd audio  #s...|                  []|['https://www.ins...|                  []|            0|             0|          0|['#sale', '#audio...|      []|https://twitter.c...|   null|     null|    0|      null|null|null|\n",
            "|1.15E+18|       1.15E+18|  1.56E+12| 7/7/2019| 9:01:46|SE Asia Standard ...| 863000000000000000|  kantorpospbg|KantorPosPurbalingga| null|#Repost posindone...|                  []|['https://www.ins...|                  []|            0|             0|          0|['#repost', '#met...|      []|https://twitter.c...|   null|     null|    0|      null|null|null|\n",
            "|1.15E+18|       1.15E+18|  1.56E+12| 7/6/2019|21:16:05|SE Asia Standard ...|          147137991|  posindonesia|       POS INDONESIA| null|Hati-hati dalam m...|                  []|                  []|['https://pbs.twi...|            0|             7|          5|['#meterai', '#po...|      []|https://twitter.c...|   null|     null|    0|      null|null|null|\n",
            "|1.15E+18|       1.15E+18|  1.56E+12| 7/5/2019|16:39:08|SE Asia Standard ...|         2268444829|aboben_variasi|Aboben Variasi Motor| null|Kita ga cuma mela...|                  []|                  []|['https://pbs.twi...|            0|             1|          1|['#gojek', '#grab...|      []|https://twitter.c...|   null|     null|    0|      null|null|null|\n",
            "|1.15E+18|       1.15E+18|  1.56E+12| 7/5/2019| 2:56:19|SE Asia Standard ...|1140000000000000000|  therapistsby|PIJAT SURABAYA BOY'S| null|Ready stock #dild...|['cumaadam', 'sur...|                  []|['https://pbs.twi...|            1|             1|          1|['#dildo', '#dild...|      []|https://twitter.c...|   null|     null|    0|      null|null|null|\n",
            "|1.15E+18|       1.15E+18|  1.56E+12| 7/4/2019| 8:21:01|SE Asia Standard ...|          147137991|  posindonesia|       POS INDONESIA| null|Kantor pos sekara...|                  []|                  []|['https://pbs.twi...|            3|             1|          7|['#posindonesia',...|      []|https://twitter.c...|   null|     null|    0|      null|null|null|\n",
            "|1.15E+18|       1.15E+18|  1.56E+12| 7/2/2019|20:16:43|SE Asia Standard ...|          147137991|  posindonesia|       POS INDONESIA| null|Pengen kirim untu...|                  []|                  []|['https://pbs.twi...|            0|             1|          1|['#posinaja', '#p...|      []|https://twitter.c...|   null|     null|    0|      null|null|null|\n",
            "|1.15E+18|       1.15E+18|  1.56E+12| 7/1/2019|13:13:59|SE Asia Standard ...|         2827596835|     hardy49jr|           Hardy_SG8| null|Riding lagi.. ngu...|                  []|['https://www.ins...|                  []|            0|             0|          0|['#impi', '#posin...|      []|https://twitter.c...|   null|     null|    0|      null|null|null|\n",
            "|1.14E+18|       1.14E+18|  1.56E+12|6/29/2019| 8:07:05|SE Asia Standard ...| 863000000000000000|  kantorpospbg|KantorPosPurbalingga| null|Selalu Sigap Memb...|                  []|['https://www.ins...|                  []|            0|             0|          1|['#posindonesia',...|      []|https://twitter.c...|   null|     null|    0|      null|null|null|\n",
            "+--------+---------------+----------+---------+--------+--------------------+-------------------+--------------+--------------------+-----+--------------------+--------------------+--------------------+--------------------+-------------+--------------+-----------+--------------------+--------+--------------------+-------+---------+-----+----------+----+----+\n",
            "only showing top 20 rows\n",
            "\n",
            "root\n",
            " |-- id: string (nullable = true)\n",
            " |-- conversation_id: string (nullable = true)\n",
            " |-- created_at: string (nullable = true)\n",
            " |-- date: string (nullable = true)\n",
            " |-- time: string (nullable = true)\n",
            " |-- timezone: string (nullable = true)\n",
            " |-- user_id: decimal(19,0) (nullable = true)\n",
            " |-- username: string (nullable = true)\n",
            " |-- name: string (nullable = true)\n",
            " |-- place: string (nullable = true)\n",
            " |-- tweet: string (nullable = true)\n",
            " |-- mentions: string (nullable = true)\n",
            " |-- urls: string (nullable = true)\n",
            " |-- photos: string (nullable = true)\n",
            " |-- replies_count: string (nullable = true)\n",
            " |-- retweets_count: string (nullable = true)\n",
            " |-- likes_count: string (nullable = true)\n",
            " |-- hashtags: string (nullable = true)\n",
            " |-- cashtags: string (nullable = true)\n",
            " |-- link: string (nullable = true)\n",
            " |-- retweet: string (nullable = true)\n",
            " |-- quote_url: string (nullable = true)\n",
            " |-- video: string (nullable = true)\n",
            " |-- user_rt_id: string (nullable = true)\n",
            " |-- near: string (nullable = true)\n",
            " |-- geo: integer (nullable = true)\n",
            "\n"
          ]
        },
        {
          "output_type": "execute_result",
          "data": {
            "text/plain": [
              "[('id', 'string'),\n",
              " ('conversation_id', 'string'),\n",
              " ('created_at', 'string'),\n",
              " ('date', 'string'),\n",
              " ('time', 'string'),\n",
              " ('timezone', 'string'),\n",
              " ('user_id', 'decimal(19,0)'),\n",
              " ('username', 'string'),\n",
              " ('name', 'string'),\n",
              " ('place', 'string'),\n",
              " ('tweet', 'string'),\n",
              " ('mentions', 'string'),\n",
              " ('urls', 'string'),\n",
              " ('photos', 'string'),\n",
              " ('replies_count', 'string'),\n",
              " ('retweets_count', 'string'),\n",
              " ('likes_count', 'string'),\n",
              " ('hashtags', 'string'),\n",
              " ('cashtags', 'string'),\n",
              " ('link', 'string'),\n",
              " ('retweet', 'string'),\n",
              " ('quote_url', 'string'),\n",
              " ('video', 'string'),\n",
              " ('user_rt_id', 'string'),\n",
              " ('near', 'string'),\n",
              " ('geo', 'int')]"
            ]
          },
          "metadata": {},
          "execution_count": 22
        }
      ]
    },
    {
      "cell_type": "code",
      "source": [
        "myDF_2.select(col(\"tweet\").alias(\"content\"), \"username\").show()"
      ],
      "metadata": {
        "colab": {
          "base_uri": "https://localhost:8080/"
        },
        "id": "BGxPdJZq_SPE",
        "outputId": "5e06b5f6-9002-4d56-cf98-e4f243c1404b"
      },
      "execution_count": null,
      "outputs": [
        {
          "output_type": "stream",
          "name": "stdout",
          "text": [
            "+--------------------+--------------+\n",
            "|             content|      username|\n",
            "+--------------------+--------------+\n",
            "|Ada Kiriman Uang?...|  kantorpospbg|\n",
            "|Resi Pos merupaka...|      detikcom|\n",
            "|Oranger, layanan ...|  posindonesia|\n",
            "|#Repost posindone...|        k59300|\n",
            "|Kiriman lewat Pos...|  posindonesia|\n",
            "|Kenali Pos sedari...|amantepatwaktu|\n",
            "|#Repost posindone...|  kantorpospbg|\n",
            "|Mau layanan Pos I...|  posindonesia|\n",
            "|Oranger Pos Indon...|  posindonesia|\n",
            "|#Repost posindone...|        k59300|\n",
            "|Sale cd audio  #s...|     tokondutz|\n",
            "|Sale cd audio  #s...|     tokondutz|\n",
            "|#Repost posindone...|  kantorpospbg|\n",
            "|Hati-hati dalam m...|  posindonesia|\n",
            "|Kita ga cuma mela...|aboben_variasi|\n",
            "|Ready stock #dild...|  therapistsby|\n",
            "|Kantor pos sekara...|  posindonesia|\n",
            "|Pengen kirim untu...|  posindonesia|\n",
            "|Riding lagi.. ngu...|     hardy49jr|\n",
            "|Selalu Sigap Memb...|  kantorpospbg|\n",
            "+--------------------+--------------+\n",
            "only showing top 20 rows\n",
            "\n"
          ]
        }
      ]
    },
    {
      "cell_type": "code",
      "source": [
        "DF_2= myDF_2.select(col(\"username\"), col(\"tweet\").alias(\"content\"),lit(\"Twitter\").alias(\"Source\"))\n",
        "DF_2.show()\n",
        "DF_2= DF_2.filter(DF_2['username']== \"posindonesia\")\n",
        "DF_2.show()"
      ],
      "metadata": {
        "colab": {
          "base_uri": "https://localhost:8080/"
        },
        "id": "j1yUYfTaAns-",
        "outputId": "7cb7be8d-721a-44c6-b17f-c85ea2a73359"
      },
      "execution_count": null,
      "outputs": [
        {
          "output_type": "stream",
          "name": "stdout",
          "text": [
            "+--------------+--------------------+-------+\n",
            "|      username|             content| Source|\n",
            "+--------------+--------------------+-------+\n",
            "|  kantorpospbg|Ada Kiriman Uang?...|Twitter|\n",
            "|      detikcom|Resi Pos merupaka...|Twitter|\n",
            "|  posindonesia|Oranger, layanan ...|Twitter|\n",
            "|        k59300|#Repost posindone...|Twitter|\n",
            "|  posindonesia|Kiriman lewat Pos...|Twitter|\n",
            "|amantepatwaktu|Kenali Pos sedari...|Twitter|\n",
            "|  kantorpospbg|#Repost posindone...|Twitter|\n",
            "|  posindonesia|Mau layanan Pos I...|Twitter|\n",
            "|  posindonesia|Oranger Pos Indon...|Twitter|\n",
            "|        k59300|#Repost posindone...|Twitter|\n",
            "|     tokondutz|Sale cd audio  #s...|Twitter|\n",
            "|     tokondutz|Sale cd audio  #s...|Twitter|\n",
            "|  kantorpospbg|#Repost posindone...|Twitter|\n",
            "|  posindonesia|Hati-hati dalam m...|Twitter|\n",
            "|aboben_variasi|Kita ga cuma mela...|Twitter|\n",
            "|  therapistsby|Ready stock #dild...|Twitter|\n",
            "|  posindonesia|Kantor pos sekara...|Twitter|\n",
            "|  posindonesia|Pengen kirim untu...|Twitter|\n",
            "|     hardy49jr|Riding lagi.. ngu...|Twitter|\n",
            "|  kantorpospbg|Selalu Sigap Memb...|Twitter|\n",
            "+--------------+--------------------+-------+\n",
            "only showing top 20 rows\n",
            "\n",
            "+------------+--------------------+-------+\n",
            "|    username|             content| Source|\n",
            "+------------+--------------------+-------+\n",
            "|posindonesia|Oranger, layanan ...|Twitter|\n",
            "|posindonesia|Kiriman lewat Pos...|Twitter|\n",
            "|posindonesia|Mau layanan Pos I...|Twitter|\n",
            "|posindonesia|Oranger Pos Indon...|Twitter|\n",
            "|posindonesia|Hati-hati dalam m...|Twitter|\n",
            "|posindonesia|Kantor pos sekara...|Twitter|\n",
            "|posindonesia|Pengen kirim untu...|Twitter|\n",
            "|posindonesia|Tumpukan amplop s...|Twitter|\n",
            "|posindonesia|Seperti jodoh yan...|Twitter|\n",
            "|posindonesia|Pos Assurance, pe...|Twitter|\n",
            "|posindonesia|Selamat Hari Anti...|Twitter|\n",
            "|posindonesia|Kiriman dipilah d...|Twitter|\n",
            "|posindonesia|Baca baik-baik, a...|Twitter|\n",
            "|posindonesia|Kirim ke mana saj...|Twitter|\n",
            "|posindonesia|Setiap kiriman ya...|Twitter|\n",
            "|posindonesia|Cicilan atau seto...|Twitter|\n",
            "|posindonesia|Mau tahu soal ren...|Twitter|\n",
            "|posindonesia|Pak Pos selalu si...|Twitter|\n",
            "|posindonesia|Alamat lengkap me...|Twitter|\n",
            "|posindonesia|Jika chat hanya c...|Twitter|\n",
            "+------------+--------------------+-------+\n",
            "only showing top 20 rows\n",
            "\n"
          ]
        }
      ]
    },
    {
      "cell_type": "code",
      "source": [
        "myDF_3= spark.read.\\\n",
        "        format(\"json\").\\\n",
        "        option(\"inferSchema\", \"true\").\\\n",
        "        option(\"header\", \"true\").\\\n",
        "        load(\"Dataset/exercise/Instagram_POS.json\")"
      ],
      "metadata": {
        "id": "fwM8y5fv5ZdD"
      },
      "execution_count": null,
      "outputs": []
    },
    {
      "cell_type": "code",
      "source": [
        "myDF_3.show()\n",
        "myDF_3.printSchema()\n",
        "myDF_3.dtypes"
      ],
      "metadata": {
        "colab": {
          "base_uri": "https://localhost:8080/"
        },
        "id": "JtFd5UF45q51",
        "outputId": "25298d6d-f12f-4961-a7af-e808ce8cf975"
      },
      "execution_count": null,
      "outputs": [
        {
          "output_type": "stream",
          "name": "stdout",
          "text": [
            "+--------------------+--------------------+--------------------+--------------------+--------------------+\n",
            "|             caption|            comments|            datetime|            img_urls|                 key|\n",
            "+--------------------+--------------------+--------------------+--------------------+--------------------+\n",
            "|Oranger menjaga s...|[[mamah.asyraf, C...|2019-07-13T04:06:...|[https://scontent...|https://www.insta...|\n",
            "|Oranger, layanan ...|[[rizqimuhammad77...|2019-07-12T09:55:...|[https://scontent...|https://www.insta...|\n",
            "|Selamat hari kope...|[[evan_mardiyanto...|2019-07-12T02:21:...|[https://scontent...|https://www.insta...|\n",
            "|Kuliah? di @polte...|[[dicky.ra_, @pos...|2019-07-11T05:19:...|[https://scontent...|https://www.insta...|\n",
            "|Selamat ulang tah...|[[hey.rudd, Kak.....|2019-07-11T01:22:...|[https://scontent...|https://www.insta...|\n",
            "|Kiriman lewat Pos...|[[rienlilitanty, ...|2019-07-10T10:46:...|[https://scontent...|https://www.insta...|\n",
            "|Sedang mencari ka...|[[nurdianing, min...|2019-07-10T07:08:...|[https://scontent...|https://www.insta...|\n",
            "|Lacak kiriman, ca...|[[roadsins, @posi...|2019-07-10T05:15:...|[https://scontent...|https://www.insta...|\n",
            "|Mau layanan Pos I...|[[posindonesia.ig...|2019-07-09T11:33:...|[https://scontent...|https://www.insta...|\n",
            "|Oranger Pos Indon...|[[w.hattari, Ada ...|2019-07-09T08:00:...|[https://scontent...|https://www.insta...|\n",
            "|Meriah, ceria di ...|[[aqmalfrz, manta...|2019-07-09T06:58:...|[https://scontent...|https://www.insta...|\n",
            "|Sumpah Palapa men...|                null|2019-07-09T05:05:...|[https://scontent...|https://www.insta...|\n",
            "|Selamat ulang tah...|[[selaputdarakemb...|2019-07-09T00:00:...|[https://scontent...|https://www.insta...|\n",
            "|Duh kirimannya ba...|[[dwikipriya86, @...|2019-07-08T06:39:...|[https://scontent...|https://www.insta...|\n",
            "|Dengan semangat y...|[[syamsul_manalu2...|2019-07-07T11:29:...|[https://scontent...|https://www.insta...|\n",
            "|Keluarga Besar Po...|[[gembong_sugiyar...|2019-07-07T02:18:...|[https://scontent...|https://www.insta...|\n",
            "|Hati-hati dalam m...|[[posindonesia.ig...|2019-07-06T14:15:...|[https://scontent...|https://www.insta...|\n",
            "|Menemani malam mi...|[[posindonesia.ig...|2019-07-06T13:01:...|[https://scontent...|https://www.insta...|\n",
            "|Selamat ulang tah...|[[posindonesia.ig...|2019-07-06T01:07:...|[https://scontent...|https://www.insta...|\n",
            "|Semakin sukses, s...|[[alivmart, @posi...|2019-07-05T06:54:...|[https://scontent...|https://www.insta...|\n",
            "+--------------------+--------------------+--------------------+--------------------+--------------------+\n",
            "only showing top 20 rows\n",
            "\n",
            "root\n",
            " |-- caption: string (nullable = true)\n",
            " |-- comments: array (nullable = true)\n",
            " |    |-- element: struct (containsNull = true)\n",
            " |    |    |-- author: string (nullable = true)\n",
            " |    |    |-- comment: string (nullable = true)\n",
            " |-- datetime: string (nullable = true)\n",
            " |-- img_urls: array (nullable = true)\n",
            " |    |-- element: string (containsNull = true)\n",
            " |-- key: string (nullable = true)\n",
            "\n"
          ]
        },
        {
          "output_type": "execute_result",
          "data": {
            "text/plain": [
              "[('caption', 'string'),\n",
              " ('comments', 'array<struct<author:string,comment:string>>'),\n",
              " ('datetime', 'string'),\n",
              " ('img_urls', 'array<string>'),\n",
              " ('key', 'string')]"
            ]
          },
          "metadata": {},
          "execution_count": 26
        }
      ]
    },
    {
      "cell_type": "code",
      "source": [
        "DF_3= myDF_3.select(col(\"comments\").alias(\"username\"), col(\"caption\").alias(\"content\"), lit(\"Instagram\").alias(\"Source\"))\n",
        "DF_3.show()"
      ],
      "metadata": {
        "colab": {
          "base_uri": "https://localhost:8080/"
        },
        "id": "uzGJyxYLA7iO",
        "outputId": "177330e4-d7d2-47b6-d77b-c1779d015aab"
      },
      "execution_count": null,
      "outputs": [
        {
          "output_type": "stream",
          "name": "stdout",
          "text": [
            "+--------------------+--------------------+---------+\n",
            "|            username|             content|   Source|\n",
            "+--------------------+--------------------+---------+\n",
            "|[[mamah.asyraf, C...|Oranger menjaga s...|Instagram|\n",
            "|[[rizqimuhammad77...|Oranger, layanan ...|Instagram|\n",
            "|[[evan_mardiyanto...|Selamat hari kope...|Instagram|\n",
            "|[[dicky.ra_, @pos...|Kuliah? di @polte...|Instagram|\n",
            "|[[hey.rudd, Kak.....|Selamat ulang tah...|Instagram|\n",
            "|[[rienlilitanty, ...|Kiriman lewat Pos...|Instagram|\n",
            "|[[nurdianing, min...|Sedang mencari ka...|Instagram|\n",
            "|[[roadsins, @posi...|Lacak kiriman, ca...|Instagram|\n",
            "|[[posindonesia.ig...|Mau layanan Pos I...|Instagram|\n",
            "|[[w.hattari, Ada ...|Oranger Pos Indon...|Instagram|\n",
            "|[[aqmalfrz, manta...|Meriah, ceria di ...|Instagram|\n",
            "|                null|Sumpah Palapa men...|Instagram|\n",
            "|[[selaputdarakemb...|Selamat ulang tah...|Instagram|\n",
            "|[[dwikipriya86, @...|Duh kirimannya ba...|Instagram|\n",
            "|[[syamsul_manalu2...|Dengan semangat y...|Instagram|\n",
            "|[[gembong_sugiyar...|Keluarga Besar Po...|Instagram|\n",
            "|[[posindonesia.ig...|Hati-hati dalam m...|Instagram|\n",
            "|[[posindonesia.ig...|Menemani malam mi...|Instagram|\n",
            "|[[posindonesia.ig...|Selamat ulang tah...|Instagram|\n",
            "|[[alivmart, @posi...|Semakin sukses, s...|Instagram|\n",
            "+--------------------+--------------------+---------+\n",
            "only showing top 20 rows\n",
            "\n"
          ]
        }
      ]
    },
    {
      "cell_type": "code",
      "source": [
        "DF_3_Final=DF_3.withColumn(\"username\", explode(\"username\")).withColumn(\"content\", explode(\"content\"))"
      ],
      "metadata": {
        "colab": {
          "base_uri": "https://localhost:8080/",
          "height": 1000
        },
        "id": "S_Ta4zguxMkx",
        "outputId": "e3d0f315-ddb5-4d85-e75b-7983b9054fdb"
      },
      "execution_count": null,
      "outputs": [
        {
          "output_type": "error",
          "ename": "AnalysisException",
          "evalue": "ignored",
          "traceback": [
            "\u001b[0;31m---------------------------------------------------------------------------\u001b[0m",
            "\u001b[0;31mPy4JJavaError\u001b[0m                             Traceback (most recent call last)",
            "\u001b[0;32m/content/spark-2.4.4-bin-hadoop2.7/python/pyspark/sql/utils.py\u001b[0m in \u001b[0;36mdeco\u001b[0;34m(*a, **kw)\u001b[0m\n\u001b[1;32m     62\u001b[0m         \u001b[0;32mtry\u001b[0m\u001b[0;34m:\u001b[0m\u001b[0;34m\u001b[0m\u001b[0;34m\u001b[0m\u001b[0m\n\u001b[0;32m---> 63\u001b[0;31m             \u001b[0;32mreturn\u001b[0m \u001b[0mf\u001b[0m\u001b[0;34m(\u001b[0m\u001b[0;34m*\u001b[0m\u001b[0ma\u001b[0m\u001b[0;34m,\u001b[0m \u001b[0;34m**\u001b[0m\u001b[0mkw\u001b[0m\u001b[0;34m)\u001b[0m\u001b[0;34m\u001b[0m\u001b[0;34m\u001b[0m\u001b[0m\n\u001b[0m\u001b[1;32m     64\u001b[0m         \u001b[0;32mexcept\u001b[0m \u001b[0mpy4j\u001b[0m\u001b[0;34m.\u001b[0m\u001b[0mprotocol\u001b[0m\u001b[0;34m.\u001b[0m\u001b[0mPy4JJavaError\u001b[0m \u001b[0;32mas\u001b[0m \u001b[0me\u001b[0m\u001b[0;34m:\u001b[0m\u001b[0;34m\u001b[0m\u001b[0;34m\u001b[0m\u001b[0m\n",
            "\u001b[0;32m/content/spark-2.4.4-bin-hadoop2.7/python/lib/py4j-0.10.7-src.zip/py4j/protocol.py\u001b[0m in \u001b[0;36mget_return_value\u001b[0;34m(answer, gateway_client, target_id, name)\u001b[0m\n\u001b[1;32m    327\u001b[0m                     \u001b[0;34m\"An error occurred while calling {0}{1}{2}.\\n\"\u001b[0m\u001b[0;34m.\u001b[0m\u001b[0;34m\u001b[0m\u001b[0;34m\u001b[0m\u001b[0m\n\u001b[0;32m--> 328\u001b[0;31m                     format(target_id, \".\", name), value)\n\u001b[0m\u001b[1;32m    329\u001b[0m             \u001b[0;32melse\u001b[0m\u001b[0;34m:\u001b[0m\u001b[0;34m\u001b[0m\u001b[0;34m\u001b[0m\u001b[0m\n",
            "\u001b[0;31mPy4JJavaError\u001b[0m: An error occurred while calling o835.withColumn.\n: org.apache.spark.sql.AnalysisException: cannot resolve 'explode(`content`)' due to data type mismatch: input to function explode should be array or map type, not string;;\n'Project [username#983, explode(content#965) AS content#987, Source#966]\n+- Project [username#983, content#965, Source#966]\n   +- Generate explode(username#964), false, [username#983]\n      +- Project [comments#683 AS username#964, caption#682 AS content#965, Instagram AS Source#966]\n         +- Relation[caption#682,comments#683,datetime#684,img_urls#685,key#686] json\n\n\tat org.apache.spark.sql.catalyst.analysis.package$AnalysisErrorAt.failAnalysis(package.scala:42)\n\tat org.apache.spark.sql.catalyst.analysis.CheckAnalysis$$anonfun$checkAnalysis$1$$anonfun$apply$3.applyOrElse(CheckAnalysis.scala:116)\n\tat org.apache.spark.sql.catalyst.analysis.CheckAnalysis$$anonfun$checkAnalysis$1$$anonfun$apply$3.applyOrElse(CheckAnalysis.scala:108)\n\tat org.apache.spark.sql.catalyst.trees.TreeNode$$anonfun$transformUp$1.apply(TreeNode.scala:281)\n\tat org.apache.spark.sql.catalyst.trees.TreeNode$$anonfun$transformUp$1.apply(TreeNode.scala:281)\n\tat org.apache.spark.sql.catalyst.trees.CurrentOrigin$.withOrigin(TreeNode.scala:70)\n\tat org.apache.spark.sql.catalyst.trees.TreeNode.transformUp(TreeNode.scala:280)\n\tat org.apache.spark.sql.catalyst.trees.TreeNode$$anonfun$3.apply(TreeNode.scala:278)\n\tat org.apache.spark.sql.catalyst.trees.TreeNode$$anonfun$3.apply(TreeNode.scala:278)\n\tat org.apache.spark.sql.catalyst.trees.TreeNode$$anonfun$4.apply(TreeNode.scala:329)\n\tat org.apache.spark.sql.catalyst.trees.TreeNode.mapProductIterator(TreeNode.scala:187)\n\tat org.apache.spark.sql.catalyst.trees.TreeNode.mapChildren(TreeNode.scala:327)\n\tat org.apache.spark.sql.catalyst.trees.TreeNode.transformUp(TreeNode.scala:278)\n\tat org.apache.spark.sql.catalyst.plans.QueryPlan$$anonfun$transformExpressionsUp$1.apply(QueryPlan.scala:93)\n\tat org.apache.spark.sql.catalyst.plans.QueryPlan$$anonfun$transformExpressionsUp$1.apply(QueryPlan.scala:93)\n\tat org.apache.spark.sql.catalyst.plans.QueryPlan$$anonfun$1.apply(QueryPlan.scala:105)\n\tat org.apache.spark.sql.catalyst.plans.QueryPlan$$anonfun$1.apply(QueryPlan.scala:105)\n\tat org.apache.spark.sql.catalyst.trees.CurrentOrigin$.withOrigin(TreeNode.scala:70)\n\tat org.apache.spark.sql.catalyst.plans.QueryPlan.transformExpression$1(QueryPlan.scala:104)\n\tat org.apache.spark.sql.catalyst.plans.QueryPlan.org$apache$spark$sql$catalyst$plans$QueryPlan$$recursiveTransform$1(QueryPlan.scala:116)\n\tat org.apache.spark.sql.catalyst.plans.QueryPlan$$anonfun$org$apache$spark$sql$catalyst$plans$QueryPlan$$recursiveTransform$1$2.apply(QueryPlan.scala:121)\n\tat scala.collection.TraversableLike$$anonfun$map$1.apply(TraversableLike.scala:234)\n\tat scala.collection.TraversableLike$$anonfun$map$1.apply(TraversableLike.scala:234)\n\tat scala.collection.mutable.ResizableArray$class.foreach(ResizableArray.scala:59)\n\tat scala.collection.mutable.ArrayBuffer.foreach(ArrayBuffer.scala:48)\n\tat scala.collection.TraversableLike$class.map(TraversableLike.scala:234)\n\tat scala.collection.AbstractTraversable.map(Traversable.scala:104)\n\tat org.apache.spark.sql.catalyst.plans.QueryPlan.org$apache$spark$sql$catalyst$plans$QueryPlan$$recursiveTransform$1(QueryPlan.scala:121)\n\tat org.apache.spark.sql.catalyst.plans.QueryPlan$$anonfun$2.apply(QueryPlan.scala:126)\n\tat org.apache.spark.sql.catalyst.trees.TreeNode.mapProductIterator(TreeNode.scala:187)\n\tat org.apache.spark.sql.catalyst.plans.QueryPlan.mapExpressions(QueryPlan.scala:126)\n\tat org.apache.spark.sql.catalyst.plans.QueryPlan.transformExpressionsUp(QueryPlan.scala:93)\n\tat org.apache.spark.sql.catalyst.analysis.CheckAnalysis$$anonfun$checkAnalysis$1.apply(CheckAnalysis.scala:108)\n\tat org.apache.spark.sql.catalyst.analysis.CheckAnalysis$$anonfun$checkAnalysis$1.apply(CheckAnalysis.scala:86)\n\tat org.apache.spark.sql.catalyst.trees.TreeNode.foreachUp(TreeNode.scala:127)\n\tat org.apache.spark.sql.catalyst.analysis.CheckAnalysis$class.checkAnalysis(CheckAnalysis.scala:86)\n\tat org.apache.spark.sql.catalyst.analysis.Analyzer.checkAnalysis(Analyzer.scala:95)\n\tat org.apache.spark.sql.catalyst.analysis.Analyzer$$anonfun$executeAndCheck$1.apply(Analyzer.scala:108)\n\tat org.apache.spark.sql.catalyst.analysis.Analyzer$$anonfun$executeAndCheck$1.apply(Analyzer.scala:105)\n\tat org.apache.spark.sql.catalyst.plans.logical.AnalysisHelper$.markInAnalyzer(AnalysisHelper.scala:201)\n\tat org.apache.spark.sql.catalyst.analysis.Analyzer.executeAndCheck(Analyzer.scala:105)\n\tat org.apache.spark.sql.execution.QueryExecution.analyzed$lzycompute(QueryExecution.scala:57)\n\tat org.apache.spark.sql.execution.QueryExecution.analyzed(QueryExecution.scala:55)\n\tat org.apache.spark.sql.execution.QueryExecution.assertAnalyzed(QueryExecution.scala:47)\n\tat org.apache.spark.sql.Dataset$.ofRows(Dataset.scala:78)\n\tat org.apache.spark.sql.Dataset.org$apache$spark$sql$Dataset$$withPlan(Dataset.scala:3412)\n\tat org.apache.spark.sql.Dataset.select(Dataset.scala:1340)\n\tat org.apache.spark.sql.Dataset.withColumns(Dataset.scala:2258)\n\tat org.apache.spark.sql.Dataset.withColumn(Dataset.scala:2225)\n\tat java.base/jdk.internal.reflect.NativeMethodAccessorImpl.invoke0(Native Method)\n\tat java.base/jdk.internal.reflect.NativeMethodAccessorImpl.invoke(NativeMethodAccessorImpl.java:62)\n\tat java.base/jdk.internal.reflect.DelegatingMethodAccessorImpl.invoke(DelegatingMethodAccessorImpl.java:43)\n\tat java.base/java.lang.reflect.Method.invoke(Method.java:566)\n\tat py4j.reflection.MethodInvoker.invoke(MethodInvoker.java:244)\n\tat py4j.reflection.ReflectionEngine.invoke(ReflectionEngine.java:357)\n\tat py4j.Gateway.invoke(Gateway.java:282)\n\tat py4j.commands.AbstractCommand.invokeMethod(AbstractCommand.java:132)\n\tat py4j.commands.CallCommand.execute(CallCommand.java:79)\n\tat py4j.GatewayConnection.run(GatewayConnection.java:238)\n\tat java.base/java.lang.Thread.run(Thread.java:829)\n",
            "\nDuring handling of the above exception, another exception occurred:\n",
            "\u001b[0;31mAnalysisException\u001b[0m                         Traceback (most recent call last)",
            "\u001b[0;32m<ipython-input-52-d0cdbe1516dd>\u001b[0m in \u001b[0;36m<module>\u001b[0;34m\u001b[0m\n\u001b[0;32m----> 1\u001b[0;31m \u001b[0mDF_3_Final\u001b[0m\u001b[0;34m=\u001b[0m\u001b[0mDF_3\u001b[0m\u001b[0;34m.\u001b[0m\u001b[0mwithColumn\u001b[0m\u001b[0;34m(\u001b[0m\u001b[0;34m\"username\"\u001b[0m\u001b[0;34m,\u001b[0m \u001b[0mexplode\u001b[0m\u001b[0;34m(\u001b[0m\u001b[0;34m\"username\"\u001b[0m\u001b[0;34m)\u001b[0m\u001b[0;34m)\u001b[0m\u001b[0;34m.\u001b[0m\u001b[0mwithColumn\u001b[0m\u001b[0;34m(\u001b[0m\u001b[0;34m\"content\"\u001b[0m\u001b[0;34m,\u001b[0m \u001b[0mexplode\u001b[0m\u001b[0;34m(\u001b[0m\u001b[0;34m\"content\"\u001b[0m\u001b[0;34m)\u001b[0m\u001b[0;34m)\u001b[0m\u001b[0;34m\u001b[0m\u001b[0;34m\u001b[0m\u001b[0m\n\u001b[0m",
            "\u001b[0;32m/content/spark-2.4.4-bin-hadoop2.7/python/pyspark/sql/dataframe.py\u001b[0m in \u001b[0;36mwithColumn\u001b[0;34m(self, colName, col)\u001b[0m\n\u001b[1;32m   1988\u001b[0m         \"\"\"\n\u001b[1;32m   1989\u001b[0m         \u001b[0;32massert\u001b[0m \u001b[0misinstance\u001b[0m\u001b[0;34m(\u001b[0m\u001b[0mcol\u001b[0m\u001b[0;34m,\u001b[0m \u001b[0mColumn\u001b[0m\u001b[0;34m)\u001b[0m\u001b[0;34m,\u001b[0m \u001b[0;34m\"col should be Column\"\u001b[0m\u001b[0;34m\u001b[0m\u001b[0;34m\u001b[0m\u001b[0m\n\u001b[0;32m-> 1990\u001b[0;31m         \u001b[0;32mreturn\u001b[0m \u001b[0mDataFrame\u001b[0m\u001b[0;34m(\u001b[0m\u001b[0mself\u001b[0m\u001b[0;34m.\u001b[0m\u001b[0m_jdf\u001b[0m\u001b[0;34m.\u001b[0m\u001b[0mwithColumn\u001b[0m\u001b[0;34m(\u001b[0m\u001b[0mcolName\u001b[0m\u001b[0;34m,\u001b[0m \u001b[0mcol\u001b[0m\u001b[0;34m.\u001b[0m\u001b[0m_jc\u001b[0m\u001b[0;34m)\u001b[0m\u001b[0;34m,\u001b[0m \u001b[0mself\u001b[0m\u001b[0;34m.\u001b[0m\u001b[0msql_ctx\u001b[0m\u001b[0;34m)\u001b[0m\u001b[0;34m\u001b[0m\u001b[0;34m\u001b[0m\u001b[0m\n\u001b[0m\u001b[1;32m   1991\u001b[0m \u001b[0;34m\u001b[0m\u001b[0m\n\u001b[1;32m   1992\u001b[0m     \u001b[0;34m@\u001b[0m\u001b[0mignore_unicode_prefix\u001b[0m\u001b[0;34m\u001b[0m\u001b[0;34m\u001b[0m\u001b[0m\n",
            "\u001b[0;32m/content/spark-2.4.4-bin-hadoop2.7/python/lib/py4j-0.10.7-src.zip/py4j/java_gateway.py\u001b[0m in \u001b[0;36m__call__\u001b[0;34m(self, *args)\u001b[0m\n\u001b[1;32m   1255\u001b[0m         \u001b[0manswer\u001b[0m \u001b[0;34m=\u001b[0m \u001b[0mself\u001b[0m\u001b[0;34m.\u001b[0m\u001b[0mgateway_client\u001b[0m\u001b[0;34m.\u001b[0m\u001b[0msend_command\u001b[0m\u001b[0;34m(\u001b[0m\u001b[0mcommand\u001b[0m\u001b[0;34m)\u001b[0m\u001b[0;34m\u001b[0m\u001b[0;34m\u001b[0m\u001b[0m\n\u001b[1;32m   1256\u001b[0m         return_value = get_return_value(\n\u001b[0;32m-> 1257\u001b[0;31m             answer, self.gateway_client, self.target_id, self.name)\n\u001b[0m\u001b[1;32m   1258\u001b[0m \u001b[0;34m\u001b[0m\u001b[0m\n\u001b[1;32m   1259\u001b[0m         \u001b[0;32mfor\u001b[0m \u001b[0mtemp_arg\u001b[0m \u001b[0;32min\u001b[0m \u001b[0mtemp_args\u001b[0m\u001b[0;34m:\u001b[0m\u001b[0;34m\u001b[0m\u001b[0;34m\u001b[0m\u001b[0m\n",
            "\u001b[0;32m/content/spark-2.4.4-bin-hadoop2.7/python/pyspark/sql/utils.py\u001b[0m in \u001b[0;36mdeco\u001b[0;34m(*a, **kw)\u001b[0m\n\u001b[1;32m     67\u001b[0m                                              e.java_exception.getStackTrace()))\n\u001b[1;32m     68\u001b[0m             \u001b[0;32mif\u001b[0m \u001b[0ms\u001b[0m\u001b[0;34m.\u001b[0m\u001b[0mstartswith\u001b[0m\u001b[0;34m(\u001b[0m\u001b[0;34m'org.apache.spark.sql.AnalysisException: '\u001b[0m\u001b[0;34m)\u001b[0m\u001b[0;34m:\u001b[0m\u001b[0;34m\u001b[0m\u001b[0;34m\u001b[0m\u001b[0m\n\u001b[0;32m---> 69\u001b[0;31m                 \u001b[0;32mraise\u001b[0m \u001b[0mAnalysisException\u001b[0m\u001b[0;34m(\u001b[0m\u001b[0ms\u001b[0m\u001b[0;34m.\u001b[0m\u001b[0msplit\u001b[0m\u001b[0;34m(\u001b[0m\u001b[0;34m': '\u001b[0m\u001b[0;34m,\u001b[0m \u001b[0;36m1\u001b[0m\u001b[0;34m)\u001b[0m\u001b[0;34m[\u001b[0m\u001b[0;36m1\u001b[0m\u001b[0;34m]\u001b[0m\u001b[0;34m,\u001b[0m \u001b[0mstackTrace\u001b[0m\u001b[0;34m)\u001b[0m\u001b[0;34m\u001b[0m\u001b[0;34m\u001b[0m\u001b[0m\n\u001b[0m\u001b[1;32m     70\u001b[0m             \u001b[0;32mif\u001b[0m \u001b[0ms\u001b[0m\u001b[0;34m.\u001b[0m\u001b[0mstartswith\u001b[0m\u001b[0;34m(\u001b[0m\u001b[0;34m'org.apache.spark.sql.catalyst.analysis'\u001b[0m\u001b[0;34m)\u001b[0m\u001b[0;34m:\u001b[0m\u001b[0;34m\u001b[0m\u001b[0;34m\u001b[0m\u001b[0m\n\u001b[1;32m     71\u001b[0m                 \u001b[0;32mraise\u001b[0m \u001b[0mAnalysisException\u001b[0m\u001b[0;34m(\u001b[0m\u001b[0ms\u001b[0m\u001b[0;34m.\u001b[0m\u001b[0msplit\u001b[0m\u001b[0;34m(\u001b[0m\u001b[0;34m': '\u001b[0m\u001b[0;34m,\u001b[0m \u001b[0;36m1\u001b[0m\u001b[0;34m)\u001b[0m\u001b[0;34m[\u001b[0m\u001b[0;36m1\u001b[0m\u001b[0;34m]\u001b[0m\u001b[0;34m,\u001b[0m \u001b[0mstackTrace\u001b[0m\u001b[0;34m)\u001b[0m\u001b[0;34m\u001b[0m\u001b[0;34m\u001b[0m\u001b[0m\n",
            "\u001b[0;31mAnalysisException\u001b[0m: \"cannot resolve 'explode(`content`)' due to data type mismatch: input to function explode should be array or map type, not string;;\\n'Project [username#983, explode(content#965) AS content#987, Source#966]\\n+- Project [username#983, content#965, Source#966]\\n   +- Generate explode(username#964), false, [username#983]\\n      +- Project [comments#683 AS username#964, caption#682 AS content#965, Instagram AS Source#966]\\n         +- Relation[caption#682,comments#683,datetime#684,img_urls#685,key#686] json\\n\""
          ]
        }
      ]
    },
    {
      "cell_type": "code",
      "source": [
        "DF_3_Final.show()"
      ],
      "metadata": {
        "colab": {
          "base_uri": "https://localhost:8080/",
          "height": 201
        },
        "id": "TRqulfFI0m6N",
        "outputId": "93cfd9bd-9f27-4e5d-c5e4-64eaba3d87d5"
      },
      "execution_count": null,
      "outputs": [
        {
          "output_type": "error",
          "ename": "NameError",
          "evalue": "ignored",
          "traceback": [
            "\u001b[0;31m---------------------------------------------------------------------------\u001b[0m",
            "\u001b[0;31mNameError\u001b[0m                                 Traceback (most recent call last)",
            "\u001b[0;32m<ipython-input-53-877afa50be2b>\u001b[0m in \u001b[0;36m<module>\u001b[0;34m\u001b[0m\n\u001b[0;32m----> 1\u001b[0;31m \u001b[0mDF_3_Final\u001b[0m\u001b[0;34m.\u001b[0m\u001b[0mshow\u001b[0m\u001b[0;34m(\u001b[0m\u001b[0;34m)\u001b[0m\u001b[0;34m\u001b[0m\u001b[0;34m\u001b[0m\u001b[0m\n\u001b[0m",
            "\u001b[0;31mNameError\u001b[0m: name 'DF_3_Final' is not defined"
          ]
        }
      ]
    },
    {
      "cell_type": "code",
      "source": [
        "DF_3_Final.filter(col(\"username\").like(\"%posindonesia\").show()"
      ],
      "metadata": {
        "id": "idlEwJtF0zJi"
      },
      "execution_count": null,
      "outputs": []
    },
    {
      "cell_type": "code",
      "source": [
        "#menggabungkan data dari 2 dataset twitter\n",
        "\n",
        "twitter = DF_1.union(DF_2)\n",
        "twitter.show()"
      ],
      "metadata": {
        "colab": {
          "base_uri": "https://localhost:8080/"
        },
        "id": "4u5l6J7bEC9T",
        "outputId": "91cd59f0-bc3c-48d2-ef92-1b7e545a0180"
      },
      "execution_count": null,
      "outputs": [
        {
          "output_type": "stream",
          "name": "stdout",
          "text": [
            "+------------+--------------------+-------+\n",
            "|    username|             content| Sourse|\n",
            "+------------+--------------------+-------+\n",
            "|posindonesia|Baik sahabat, tel...|Twitter|\n",
            "|posindonesia|Hai sahabat. Kiri...|Twitter|\n",
            "|posindonesia|/ handphone pener...|Twitter|\n",
            "|posindonesia|Hai sahabat, kiri...|Twitter|\n",
            "|posindonesia|Oranger menjaga s...|Twitter|\n",
            "|posindonesia|Hai sahabat. Untu...|Twitter|\n",
            "|posindonesia|Terima kasih tela...|Twitter|\n",
            "|posindonesia|Hai sahabat. Moho...|Twitter|\n",
            "|posindonesia|Hai sahabat. Moho...|Twitter|\n",
            "|posindonesia|Sama - sama sahab...|Twitter|\n",
            "|posindonesia|Hai sahabat. Kiri...|Twitter|\n",
            "|posindonesia|biaya pelalubeaan...|Twitter|\n",
            "|posindonesia|Halo Sahabat, seb...|Twitter|\n",
            "|posindonesia|Berdasarkan hasil...|Twitter|\n",
            "|posindonesia|Mohon diinformasi...|Twitter|\n",
            "|posindonesia|kami informasikan...|Twitter|\n",
            "|posindonesia|Baik Sahabat, Moh...|Twitter|\n",
            "|posindonesia|Halo Sahabat. Moh...|Twitter|\n",
            "|posindonesia|Halo Sahabat pos....|Twitter|\n",
            "|posindonesia|Baik sahabat moho...|Twitter|\n",
            "+------------+--------------------+-------+\n",
            "only showing top 20 rows\n",
            "\n"
          ]
        }
      ]
    }
  ]
}